{
 "cells": [
  {
   "cell_type": "markdown",
   "metadata": {},
   "source": [
    "## Preprocessing"
   ]
  },
  {
   "cell_type": "code",
   "execution_count": 1,
   "metadata": {},
   "outputs": [],
   "source": [
    "import pandas as pd"
   ]
  },
  {
   "cell_type": "code",
   "execution_count": 2,
   "metadata": {},
   "outputs": [],
   "source": [
    "data = pd.read_csv(\"../datasets/census_income_dataset.csv\")"
   ]
  },
  {
   "cell_type": "code",
   "execution_count": 3,
   "metadata": {},
   "outputs": [],
   "source": [
    "data = data.drop([\"fnlwgt\",\"education\",\"relationship\"], axis=1)"
   ]
  },
  {
   "cell_type": "code",
   "execution_count": 4,
   "metadata": {},
   "outputs": [
    {
     "data": {
      "text/plain": [
       "age                  0\n",
       "workclass         1836\n",
       "education-num        0\n",
       "marital-status       0\n",
       "occupation        1843\n",
       "race                 0\n",
       "sex                  0\n",
       "capital-gains        0\n",
       "capital-loss         0\n",
       "hours-per-week       0\n",
       "native-country     583\n",
       "target               0\n",
       "dtype: int64"
      ]
     },
     "execution_count": 4,
     "metadata": {},
     "output_type": "execute_result"
    }
   ],
   "source": [
    "data.isnull().sum()"
   ]
  },
  {
   "cell_type": "code",
   "execution_count": 5,
   "metadata": {},
   "outputs": [
    {
     "data": {
      "text/html": [
       "<div>\n",
       "<style scoped>\n",
       "    .dataframe tbody tr th:only-of-type {\n",
       "        vertical-align: middle;\n",
       "    }\n",
       "\n",
       "    .dataframe tbody tr th {\n",
       "        vertical-align: top;\n",
       "    }\n",
       "\n",
       "    .dataframe thead th {\n",
       "        text-align: right;\n",
       "    }\n",
       "</style>\n",
       "<table border=\"1\" class=\"dataframe\">\n",
       "  <thead>\n",
       "    <tr style=\"text-align: right;\">\n",
       "      <th></th>\n",
       "      <th>age</th>\n",
       "      <th>workclass</th>\n",
       "      <th>education-num</th>\n",
       "      <th>marital-status</th>\n",
       "      <th>occupation</th>\n",
       "      <th>race</th>\n",
       "      <th>sex</th>\n",
       "      <th>capital-gains</th>\n",
       "      <th>capital-loss</th>\n",
       "      <th>hours-per-week</th>\n",
       "      <th>native-country</th>\n",
       "      <th>target</th>\n",
       "    </tr>\n",
       "  </thead>\n",
       "  <tbody>\n",
       "    <tr>\n",
       "      <th>0</th>\n",
       "      <td>39</td>\n",
       "      <td>6</td>\n",
       "      <td>13</td>\n",
       "      <td>4</td>\n",
       "      <td>0</td>\n",
       "      <td>4</td>\n",
       "      <td>1</td>\n",
       "      <td>2174</td>\n",
       "      <td>0</td>\n",
       "      <td>40</td>\n",
       "      <td>38</td>\n",
       "      <td>0</td>\n",
       "    </tr>\n",
       "    <tr>\n",
       "      <th>1</th>\n",
       "      <td>50</td>\n",
       "      <td>5</td>\n",
       "      <td>13</td>\n",
       "      <td>2</td>\n",
       "      <td>3</td>\n",
       "      <td>4</td>\n",
       "      <td>1</td>\n",
       "      <td>0</td>\n",
       "      <td>0</td>\n",
       "      <td>13</td>\n",
       "      <td>38</td>\n",
       "      <td>0</td>\n",
       "    </tr>\n",
       "    <tr>\n",
       "      <th>2</th>\n",
       "      <td>38</td>\n",
       "      <td>3</td>\n",
       "      <td>9</td>\n",
       "      <td>0</td>\n",
       "      <td>5</td>\n",
       "      <td>4</td>\n",
       "      <td>1</td>\n",
       "      <td>0</td>\n",
       "      <td>0</td>\n",
       "      <td>40</td>\n",
       "      <td>38</td>\n",
       "      <td>0</td>\n",
       "    </tr>\n",
       "    <tr>\n",
       "      <th>3</th>\n",
       "      <td>53</td>\n",
       "      <td>3</td>\n",
       "      <td>7</td>\n",
       "      <td>2</td>\n",
       "      <td>5</td>\n",
       "      <td>2</td>\n",
       "      <td>1</td>\n",
       "      <td>0</td>\n",
       "      <td>0</td>\n",
       "      <td>40</td>\n",
       "      <td>38</td>\n",
       "      <td>0</td>\n",
       "    </tr>\n",
       "    <tr>\n",
       "      <th>4</th>\n",
       "      <td>28</td>\n",
       "      <td>3</td>\n",
       "      <td>13</td>\n",
       "      <td>2</td>\n",
       "      <td>9</td>\n",
       "      <td>2</td>\n",
       "      <td>0</td>\n",
       "      <td>0</td>\n",
       "      <td>0</td>\n",
       "      <td>40</td>\n",
       "      <td>4</td>\n",
       "      <td>0</td>\n",
       "    </tr>\n",
       "  </tbody>\n",
       "</table>\n",
       "</div>"
      ],
      "text/plain": [
       "   age  workclass  education-num  marital-status  occupation  race  sex  \\\n",
       "0   39          6             13               4           0     4    1   \n",
       "1   50          5             13               2           3     4    1   \n",
       "2   38          3              9               0           5     4    1   \n",
       "3   53          3              7               2           5     2    1   \n",
       "4   28          3             13               2           9     2    0   \n",
       "\n",
       "   capital-gains  capital-loss  hours-per-week  native-country  target  \n",
       "0           2174             0              40              38       0  \n",
       "1              0             0              13              38       0  \n",
       "2              0             0              40              38       0  \n",
       "3              0             0              40              38       0  \n",
       "4              0             0              40               4       0  "
      ]
     },
     "execution_count": 5,
     "metadata": {},
     "output_type": "execute_result"
    }
   ],
   "source": [
    "from sklearn.preprocessing import LabelEncoder\n",
    "enc = LabelEncoder()\n",
    "\n",
    "features_to_convert = [\"workclass\",\"marital-status\",\"occupation\",\"race\",\"sex\",\"native-country\",\"target\"]\n",
    "for i in features_to_convert:\n",
    "    data[i] = enc.fit_transform(data[i].astype('str'))\n",
    "data.head()"
   ]
  },
  {
   "cell_type": "code",
   "execution_count": 6,
   "metadata": {},
   "outputs": [
    {
     "name": "stdout",
     "output_type": "stream",
     "text": [
      "{'hours-per-week': [440, 32121], 'native-country': [1113, 31448], 'workclass': [0, 32561], 'capital-gains': [215, 32346], 'age': [121, 32440], 'occupation': [0, 32561], 'sex': [0, 32561], 'education-num': [219, 32342], 'capital-loss': [1470, 31091], 'target': [0, 32561], 'marital-status': [0, 32561], 'race': [1350, 31211]}\n"
     ]
    }
   ],
   "source": [
    "outliers = {}\n",
    "for i in range(data.shape[1]):\n",
    "    min_t = data[data.columns[i]].mean() - (3 * data[data.columns[i]].std())\n",
    "    max_t = data[data.columns[i]].mean() + (3 * data[data.columns[i]].std())\n",
    "    count = 0\n",
    "    for j in data[data.columns[i]]:\n",
    "        if j < min_t or j > max_t:\n",
    "            count += 1\n",
    "    outliers[data.columns[i]] = [count,data.shape[0]-count]\n",
    "print(outliers)"
   ]
  },
  {
   "cell_type": "markdown",
   "metadata": {},
   "source": [
    "## Activity 1"
   ]
  },
  {
   "cell_type": "code",
   "execution_count": 7,
   "metadata": {},
   "outputs": [],
   "source": [
    "X = data.drop(\"target\", axis=1)\n",
    "Y = data[\"target\"]"
   ]
  },
  {
   "cell_type": "code",
   "execution_count": 8,
   "metadata": {},
   "outputs": [
    {
     "name": "stdout",
     "output_type": "stream",
     "text": [
      "(25787, 11) (3517, 11) (3257, 11) (25787,) (3517,) (3257,)\n"
     ]
    }
   ],
   "source": [
    "from sklearn.model_selection import train_test_split\n",
    "X_new, X_test, Y_new, Y_test = train_test_split(X, Y, test_size=0.1, random_state=101)\n",
    "X_train, X_dev, Y_train, Y_dev = train_test_split(X_new, Y_new, test_size=0.12, random_state=101)\n",
    "print(X_train.shape, X_dev.shape, X_test.shape, Y_train.shape, Y_dev.shape, Y_test.shape)"
   ]
  },
  {
   "cell_type": "code",
   "execution_count": 9,
   "metadata": {},
   "outputs": [
    {
     "data": {
      "text/plain": [
       "GaussianNB(priors=None)"
      ]
     },
     "execution_count": 9,
     "metadata": {},
     "output_type": "execute_result"
    }
   ],
   "source": [
    "from sklearn.naive_bayes import GaussianNB\n",
    "model_NB = GaussianNB()\n",
    "model_NB.fit(X_train, Y_train)"
   ]
  },
  {
   "cell_type": "markdown",
   "metadata": {},
   "source": [
    "## Activity 2"
   ]
  },
  {
   "cell_type": "code",
   "execution_count": 10,
   "metadata": {},
   "outputs": [
    {
     "data": {
      "text/plain": [
       "DecisionTreeClassifier(class_weight=None, criterion='gini', max_depth=None,\n",
       "            max_features=None, max_leaf_nodes=None,\n",
       "            min_impurity_decrease=0.0, min_impurity_split=None,\n",
       "            min_samples_leaf=1, min_samples_split=2,\n",
       "            min_weight_fraction_leaf=0.0, presort=False, random_state=101,\n",
       "            splitter='best')"
      ]
     },
     "execution_count": 10,
     "metadata": {},
     "output_type": "execute_result"
    }
   ],
   "source": [
    "from sklearn.tree import DecisionTreeClassifier\n",
    "model_tree = DecisionTreeClassifier(random_state=101)\n",
    "model_tree.fit(X_train, Y_train)"
   ]
  },
  {
   "cell_type": "markdown",
   "metadata": {},
   "source": [
    "## Activity 3"
   ]
  },
  {
   "cell_type": "code",
   "execution_count": 11,
   "metadata": {},
   "outputs": [
    {
     "data": {
      "text/plain": [
       "SVC(C=1.0, cache_size=200, class_weight=None, coef0=0.0,\n",
       "  decision_function_shape='ovr', degree=3, gamma='auto', kernel='rbf',\n",
       "  max_iter=-1, probability=False, random_state=101, shrinking=True,\n",
       "  tol=0.001, verbose=False)"
      ]
     },
     "execution_count": 11,
     "metadata": {},
     "output_type": "execute_result"
    }
   ],
   "source": [
    "from sklearn.svm import SVC\n",
    "model_svm = SVC(random_state=101)\n",
    "model_svm.fit(X_train, Y_train)"
   ]
  },
  {
   "cell_type": "markdown",
   "metadata": {},
   "source": [
    "## Error analysis"
   ]
  },
  {
   "cell_type": "code",
   "execution_count": 12,
   "metadata": {},
   "outputs": [
    {
     "data": {
      "text/plain": [
       "{'Decision Tree': {'Accuracy': [0.9778958389886376,\n",
       "   0.814046061984646,\n",
       "   0.828676696346331],\n",
       "  'Precision': [0.9875561700656758, 0.6313253012048192, 0.6321381142098274],\n",
       "  'Recall': [0.919832582099163, 0.6009174311926605, 0.6287978863936592]},\n",
       " 'Naive Bayes': {'Accuracy': [0.7973397448326677,\n",
       "   0.7910150696616435,\n",
       "   0.8087196806877495],\n",
       "  'Precision': [0.6696490020646937, 0.6797900262467191, 0.6903409090909091],\n",
       "  'Recall': [0.31326464906632323, 0.29701834862385323, 0.32100396301188905]},\n",
       " 'SVM': {'Accuracy': [0.9108077713576609,\n",
       "   0.8086437304520898,\n",
       "   0.8182376420018422],\n",
       "  'Precision': [0.8945139169019766, 0.7177242888402626, 0.7047146401985112],\n",
       "  'Recall': [0.7139407598197038, 0.3761467889908257, 0.3751651254953765]}}"
      ]
     },
     "execution_count": 12,
     "metadata": {},
     "output_type": "execute_result"
    }
   ],
   "source": [
    "from sklearn.metrics import accuracy_score, precision_score, recall_score\n",
    "X_sets = [X_train, X_dev, X_test]\n",
    "Y_sets = [Y_train, Y_dev, Y_test]\n",
    "\n",
    "metrics = {\"Naive Bayes\":{\"Accuracy\":[],\"Precision\":[],\"Recall\":[]},\"Decision Tree\":{\"Accuracy\":[],\"Precision\":[],\"Recall\":[]},\"SVM\":{\"Accuracy\":[],\"Precision\":[],\"Recall\":[]}}\n",
    "\n",
    "for i in range(0,len(X_sets)):\n",
    "    \n",
    "    pred_NB = model_NB.predict(X_sets[i])\n",
    "    metrics[\"Naive Bayes\"][\"Accuracy\"].append(accuracy_score(Y_sets[i], pred_NB))\n",
    "    metrics[\"Naive Bayes\"][\"Precision\"].append(precision_score(Y_sets[i], pred_NB))\n",
    "    metrics[\"Naive Bayes\"][\"Recall\"].append(recall_score(Y_sets[i], pred_NB))\n",
    "    \n",
    "    pred_tree = model_tree.predict(X_sets[i])\n",
    "    metrics[\"Decision Tree\"][\"Accuracy\"].append(accuracy_score(Y_sets[i], pred_tree))\n",
    "    metrics[\"Decision Tree\"][\"Precision\"].append(precision_score(Y_sets[i], pred_tree))\n",
    "    metrics[\"Decision Tree\"][\"Recall\"].append(recall_score(Y_sets[i], pred_tree))\n",
    "    \n",
    "    pred_svm = model_svm.predict(X_sets[i])\n",
    "    metrics[\"SVM\"][\"Accuracy\"].append(accuracy_score(Y_sets[i], pred_svm))\n",
    "    metrics[\"SVM\"][\"Precision\"].append(precision_score(Y_sets[i], pred_svm))\n",
    "    metrics[\"SVM\"][\"Recall\"].append(recall_score(Y_sets[i], pred_svm))\n",
    "\n",
    "metrics"
   ]
  },
  {
   "cell_type": "code",
   "execution_count": null,
   "metadata": {},
   "outputs": [],
   "source": []
  }
 ],
 "metadata": {
  "kernelspec": {
   "display_name": "Python 3",
   "language": "python",
   "name": "python3"
  },
  "language_info": {
   "codemirror_mode": {
    "name": "ipython",
    "version": 3
   },
   "file_extension": ".py",
   "mimetype": "text/x-python",
   "name": "python",
   "nbconvert_exporter": "python",
   "pygments_lexer": "ipython3",
   "version": "3.5.2"
  }
 },
 "nbformat": 4,
 "nbformat_minor": 2
}
